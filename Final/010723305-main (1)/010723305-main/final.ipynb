{
 "cells": [
  {
   "cell_type": "code",
   "execution_count": 218,
   "metadata": {},
   "outputs": [],
   "source": [
    "import numpy as np\n",
    "import cv2 \n",
    "import os"
   ]
  },
  {
   "cell_type": "code",
   "execution_count": 219,
   "metadata": {},
   "outputs": [],
   "source": [
    "sift = cv2.SIFT_create()\n",
    "bf = cv2.BFMatcher()"
   ]
  },
  {
   "cell_type": "code",
   "execution_count": 220,
   "metadata": {},
   "outputs": [],
   "source": [
    "def feature_object_detection(template_img, template_gray, query_img, query_gray, min_match_number) :  #รับภาพต่างๆ มา min_match_number คือจำนวน matchที่น้อยที่สุดท้ายยอมรับได้ \n",
    "    template_kpts, template_desc = sift.detectAndCompute(template_gray, None)  #ทำการdetectAndCompute หาจุดเด่นของภาพ template  \n",
    "    query_kpts, query_desc = sift.detectAndCompute(query_gray, None)\n",
    "    matches = bf.knnMatch(template_desc, query_desc, k=2)  #ทำการหาคู่ match กันป้อนภาพ template_desc, query_desc เข้าไปสองภาพ k=2 เป็นคู่กัน\n",
    "    good_matches = list()   \n",
    "    good_matches_list = list()\n",
    "    for m, n in matches :  #(matches[0])(match[1]) วนลูปไปเรื่อยๆจนจำนวน match ครบ\n",
    "        if m.distance < 0.7*n.distance :  #เช็คความเหมือนว่าอยู่ในระยะที่ใกล้เคียงกันไหม\n",
    "            good_matches.append(m)      #ถ้า m < n ที่ถูกคูณด้วย 0.7 เป็น good match ที่ดี\n",
    "            good_matches_list.append([m])\n",
    "\n",
    "    \n",
    "    if len(good_matches) > min_match_number : # len เช็คจำนวนของ list มีจำนวนเท่าไหร่\n",
    "        src_pts = np.float32([ template_kpts[m.queryIdx].pt for m in good_matches ]).reshape(-1,1,2) #วน for ตามจำนวน good matchแล้วนำค่า m มาหา queryIdx ค่าที่ได้จำป็นตำแหน่งของ template_kpt\n",
    "        dst_pts = np.float32([ query_kpts[m.trainIdx].pt for m in good_matches ]).reshape(-1,1,2)  \n",
    "\n",
    "        H, inlier_masks = cv2.findHomography(src_pts, dst_pts, cv2.RANSAC, 5.0) # H RANSAC #ป้อน src_pts, dst_pts ใช้ฟังก์ชัน RANSAC สามารถยอมรับที่ 10 pixcel\n",
    "        # get the bounding box around template image\n",
    "        h, w = template_img.shape[:2]  #ความสูง ความกว้างของ template_img เพื่อนำไปวาปปิ้งแล้วไปขีดเส้น\n",
    "        template_box = np.float32([[0, 0], [0, h-1], [w-1, h-1], [w-1, 0]]).reshape(-1,1,2)  #ตำแหน่ง template_img\n",
    "        transformed_box = cv2.perspectiveTransform(template_box, H) #ทำการ วาปปิ้งภาพโดยใช้ perspectiveTransform ใส่ค่า template_box ลงไปจะเปลี่ยนแปลงไปตามค่า H จะให้ค่าตำแหน่งปัจจุบันของค่า H มา\n",
    "\n",
    "        detected_img = cv2.polylines(query_img, [np.int32(transformed_box)], True, (255,0,0), 4, cv2.LINE_AA)  #วาดเส้น บน query_img \n",
    "        drawmatch_img = cv2.drawMatchesKnn(template_img, template_kpts, detected_img, query_kpts, good_matches_list, None, flags=2, matchesMask=inlier_masks) #วาดภาพ\n",
    "\n",
    "        return detected_img, drawmatch_img\n",
    "    else :\n",
    "        print('Keypoints not enough')\n",
    "        return query_img, query_img\n",
    "    "
   ]
  },
  {
   "cell_type": "code",
   "execution_count": 221,
   "metadata": {},
   "outputs": [],
   "source": [
    "vid = cv2.VideoCapture('010723305-main/videos/final_exam/Dataset-1/left_output-1.avi') #ทำการเพิ่มวิดีโอ อ่านวิดีโอ\n",
    "\n",
    "template_img = cv2.imread('010723305-main/images/final_exam/Templates/Template-1.png')\n",
    "template_gray = cv2.cvtColor(template_img, cv2.COLOR_BGR2GRAY)  #แปลงภาพให้เป็น gray scale \n",
    "\n",
    "while vid.isOpened() :\n",
    "    ret, frame = vid.read() \n",
    "    \n",
    "    if ret :\n",
    "        frame_gray = cv2.cvtColor(frame, cv2.COLOR_BGR2GRAY)\n",
    "\n",
    "        detected, drawmatch =  feature_object_detection(template_img, template_gray,frame,frame_gray, 8) #รับภาพมา นับจำนวนคู่ที่ แมท กัน 8 คู่\n",
    "        \n",
    "        cv2.imshow('Video frame', frame) #show รูป\n",
    "        cv2.imshow('gray', frame_gray ) #show รูปที่เป็น gray scale\n",
    "\n",
    "        if cv2.waitKey(int(1000/30)) & 0xFF == ord('k') : # this line control the period between image frame # 30 คือframe rate  #กำหนดเมื่อกด k จะออกจากวิดีโอ\n",
    "            break\n",
    "    else :\n",
    "        break\n",
    "vid.release()\n",
    "cv2.destroyAllWindows()"
   ]
  },
  {
   "cell_type": "code",
   "execution_count": 222,
   "metadata": {},
   "outputs": [],
   "source": [
    "chessboard_size = (8,6) # Your chessboard size\n",
    "\n",
    "# iterative termination criteria, maximum iterationm and epsilon\n",
    "term_criteria = (cv2.TermCriteria_EPS+ cv2.TermCriteria_MAX_ITER, 30, 0.001)"
   ]
  },
  {
   "cell_type": "code",
   "execution_count": 223,
   "metadata": {},
   "outputs": [],
   "source": [
    "# List to store object points and images point from all the images.\n",
    "obj_points = list() # 3D points in heterogeneous Xi\n",
    "img_points = list() # 2D points on image xi\n",
    "\n",
    "# Defining the world coordinates for 3D points Xi\n",
    "objp = np.zeros((1, chessboard_size[0] * chessboard_size[1], 3), np.float32)\n",
    "objp[0,:,:2] = np.mgrid[0:chessboard_size[0], 0:chessboard_size[1]].T.reshape(-1, 2)\n",
    "prev_img_shape = None"
   ]
  },
  {
   "cell_type": "code",
   "execution_count": 224,
   "metadata": {},
   "outputs": [],
   "source": [
    "for image in images :\n",
    "    img_gray = cv2.cvtColor(image, cv2.COLOR_BGR2GRAY)\n",
    "    ret, corners = cv2.findChessboardCorners(img_gray, chessboard_size, None) # xi in pixel (20,15)\n",
    "    image_size = img_gray.shape\n",
    "    # If found add obj points, image points afterthat refining them\n",
    "    if ret == True :\n",
    "        #print('Found')\n",
    "        obj_points.append(objp) # Add Xi 3D\n",
    "        \n",
    "        corners2 = cv2.cornerSubPix(img_gray, corners, (11,11), (-1,-1), term_criteria) # Refining xi -> xi in subpixel, xi -> floating point (19.7, 15.1)\n",
    "        img_points.append(corners2) # Add xi 2D\n",
    "\n",
    "        #Draw and display the chessboard corners\n",
    "        img = cv2.drawChessboardCorners(image, chessboard_size, corners2, ret)\n",
    "        cv2.imshow('frame', img)\n",
    "        cv2.waitKey(100)\n",
    "\n",
    "cv2.destroyAllWindows()"
   ]
  }
 ],
 "metadata": {
  "interpreter": {
   "hash": "49fdda9a8f1b43ecf94cbf6adfec0c9149aed4e40f425dad389976f3db3c5b4b"
  },
  "kernelspec": {
   "display_name": "Python 3.9.6 64-bit",
   "language": "python",
   "name": "python3"
  },
  "language_info": {
   "codemirror_mode": {
    "name": "ipython",
    "version": 3
   },
   "file_extension": ".py",
   "mimetype": "text/x-python",
   "name": "python",
   "nbconvert_exporter": "python",
   "pygments_lexer": "ipython3",
   "version": "3.9.6"
  },
  "orig_nbformat": 4
 },
 "nbformat": 4,
 "nbformat_minor": 2
}
